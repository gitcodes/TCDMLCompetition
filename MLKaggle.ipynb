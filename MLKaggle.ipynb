{
 "cells": [
  {
   "cell_type": "markdown",
   "metadata": {},
   "source": [
    "Import required Packages"
   ]
  },
  {
   "cell_type": "code",
   "execution_count": 1,
   "metadata": {},
   "outputs": [],
   "source": [
    "%config IPCompleter.greedy=True\n",
    "import numpy as np\n",
    "import matplotlib.pyplot as plt\n",
    "from mpl_toolkits.mplot3d import Axes3D\n",
    "import os.path\n",
    "import pandas as pd\n",
    "import seaborn as sns\n",
    "from sklearn.model_selection import train_test_split\n",
    "from sklearn import linear_model\n",
    "from sklearn import metrics\n",
    "from sklearn.ensemble import RandomForestRegressor\n",
    "from sklearn.datasets import make_regression\n",
    "from sklearn.preprocessing import OneHotEncoder\n",
    "from sklearn.impute import SimpleImputer\n",
    "from sklearn.preprocessing import MinMaxScaler\n",
    "from sklearn.preprocessing import KBinsDiscretizer\n",
    "from sklearn import preprocessing\n",
    "\n",
    "import category_encoders as ce\n"
   ]
  },
  {
   "cell_type": "markdown",
   "metadata": {},
   "source": [
    "URL of the datasets and storing datasets in dataframes"
   ]
  },
  {
   "cell_type": "code",
   "execution_count": 2,
   "metadata": {},
   "outputs": [],
   "source": [
    "url_for_traindata =  os.path.join(os.path.realpath('.'),'tcd ml 2019-20 income prediction training (with labels).csv')\n",
    "url_for_testdata = os.path.join(os.path.realpath('.'),'tcd ml 2019-20 income prediction test (without labels).csv')\n",
    "output_url = os.path.join(os.path.realpath('.'),'tcd ml 2019-20 income prediction submission file.csv')\n",
    "temp_output = os.path.join(os.path.realpath('.'),'output.csv')\n",
    "\n",
    "training_dataframe = pd.read_csv(url_for_traindata)\n",
    "test_dataframe = pd.read_csv(url_for_testdata)"
   ]
  },
  {
   "cell_type": "markdown",
   "metadata": {},
   "source": [
    "Comparing the income for each features.(Removed peice of code for other features) "
   ]
  },
  {
   "cell_type": "code",
   "execution_count": 3,
   "metadata": {},
   "outputs": [
    {
     "data": {
      "text/plain": [
       "<matplotlib.axes._subplots.AxesSubplot at 0x1a28abe438>"
      ]
     },
     "execution_count": 3,
     "metadata": {},
     "output_type": "execute_result"
    },
    {
     "data": {
      "image/png": "[encoded data removed]",
      "text/plain": [
       "<Figure size 432x288 with 1 Axes>"
      ]
     },
     "metadata": {
      "needs_background": "light"
     },
     "output_type": "display_data"
    }
   ],
   "source": [
    "incomePerc = training_dataframe[[\"Gender\", \"Income in EUR\"]].groupby(['Gender'],as_index=False).mean()\n",
    "sns.barplot(x='Gender', y='Income in EUR', data=incomePerc)\n",
    "# sns.regplot(x='Year of Record', y='Income in EUR', data=training_dataframe)\n",
    "# plt.ylim(0,)"
   ]
  },
  {
   "cell_type": "markdown",
   "metadata": {},
   "source": [
    "Count missing values in each column and dropping rows with both gender and profession is null "
   ]
  },
  {
   "cell_type": "code",
   "execution_count": 4,
   "metadata": {},
   "outputs": [
    {
     "name": "stdout",
     "output_type": "stream",
     "text": [
      "Instance                0\n",
      "Year of Record        441\n",
      "Gender               7432\n",
      "Age                   494\n",
      "Country                 0\n",
      "Size of City            0\n",
      "Profession            322\n",
      "University Degree    7370\n",
      "Wears Glasses           0\n",
      "Hair Color           7242\n",
      "Body Height [cm]        0\n",
      "Income in EUR           0\n",
      "dtype: int64\n",
      "(111940, 12)\n"
     ]
    }
   ],
   "source": [
    "print(training_dataframe.isnull().sum())\n",
    "index_to_drop = training_dataframe[((training_dataframe.Gender == 'unknown') | (pd.isnull(training_dataframe.Gender))) & ((pd.isnull(training_dataframe.Profession)))].index\n",
    "training_dataframe.drop(index_to_drop,inplace= True)\n",
    "print(training_dataframe.shape)"
   ]
  },
  {
   "cell_type": "markdown",
   "metadata": {},
   "source": [
    "Combining both test and train data together so that data cleaning and preprocessing can be done after droping income column from both test and train data."
   ]
  },
  {
   "cell_type": "code",
   "execution_count": 5,
   "metadata": {},
   "outputs": [
    {
     "name": "stdout",
     "output_type": "stream",
     "text": [
      "Instance                 0\n",
      "Year of Record         736\n",
      "Gender               12274\n",
      "Age                    773\n",
      "Country                  0\n",
      "Size of City             0\n",
      "Profession             464\n",
      "University Degree    12223\n",
      "Wears Glasses            0\n",
      "Hair Color           12157\n",
      "Body Height [cm]         0\n",
      "dtype: int64\n",
      "(111940, 11)\n",
      "(73230, 11)\n",
      "(185170, 11)\n"
     ]
    }
   ],
   "source": [
    "y = training_dataframe['Income in EUR']\n",
    "train_model = training_dataframe.drop(columns =['Income in EUR'])\n",
    "test_model =  test_dataframe.drop(columns =['Income'])                                                     \n",
    "combined_df = pd.concat([train_model, test_model])\n",
    "print(combined_df.isnull().sum())\n",
    "print(train_model.shape)\n",
    "print(test_model.shape)\n",
    "print(combined_df.shape)\n",
    "# combined_df.head\n",
    "# combined_df.groupby(combined_df.Age).count()()\n",
    "#pd.DataFrame({'labels':combined_df.Profession.unique()[:]}).labels.sort_values().to_csv(temp_output)"
   ]
  },
  {
   "cell_type": "markdown",
   "metadata": {},
   "source": [
    "<h3>Data pre-processing</h3>\n",
    "\n",
    "   * Using SimpleImputer to replcae nan with unknown for all series of type object and with mean for all series      of type number.     (ravel() is applied to avoid error of numpy array dimension)\n",
    "    * replacing 0 in gender as male\n",
    "    * replacing 0 in university dergree as Bachelor.\n",
    "    * replacing  country names with less than 100 count as 'notimportant'\n",
    "    * replacing  age > 100 with mean of age > 100 in the dataset"
   ]
  },
  {
   "cell_type": "code",
   "execution_count": 6,
   "metadata": {},
   "outputs": [],
   "source": [
    "imp_gender = SimpleImputer(missing_values=np.nan, strategy='constant',fill_value='unknown')\n",
    "# imp_university = SimpleImputer(missing_values=np.nan, strategy='most_frequent')\n",
    "imp_university = SimpleImputer(missing_values=np.nan, strategy='constant',fill_value='unknown')\n",
    "imp_profession = SimpleImputer(missing_values=np.nan, strategy='constant',fill_value='unknown')\n",
    "\n",
    "mp_profession = imp_profession.fit(combined_df[['Profession']])\n",
    "combined_df['Profession'] = imp_profession.transform(combined_df[['Profession']]).ravel()\n",
    "\n",
    "imp_gender = imp_gender.fit(combined_df[['Gender']])\n",
    "combined_df['Gender'] = imp_gender.transform(combined_df[['Gender']]).ravel()\n",
    "\n",
    "imp_university = imp_university.fit(combined_df[['University Degree']])\n",
    "combined_df['University Degree'] = imp_university.transform(combined_df[['University Degree']]).ravel()\n",
    "\n",
    "combined_df['Gender'].replace('0','male',inplace = True)\n",
    "combined_df['University Degree'].replace('0','Bachelor',inplace = True)\n",
    "\n",
    "avg_year = combined_df[\"Year of Record\"].astype(\"float\").mean(axis=0)\n",
    "avg_age = combined_df[\"Age\"].astype(\"float\").mean(axis=0)\n",
    "\n",
    "combined_df[\"Year of Record\"].replace(np.nan, avg_year, inplace=True)\n",
    "combined_df[\"Age\"].replace(np.nan, avg_age, inplace=True)\n",
    "\n",
    "countries_count_greaterthan100 = combined_df.Country.value_counts()[combined_df.Country.value_counts() > 100]\n",
    "countrylist = countries_count_greaterthan100.index.tolist()\n",
    "combined_df.Country.where(combined_df.Country.isin(countrylist),'notimportant',inplace = True)\n",
    "combined_df.Age.where(combined_df.Age <= 100,109.33,inplace = True)\n",
    "#decide what to do for unkown gender"
   ]
  },
  {
   "cell_type": "markdown",
   "metadata": {},
   "source": [
    "Tried age binning but no improvement found.\n",
    "* Min max noramalization on year of record and age"
   ]
  },
  {
   "cell_type": "code",
   "execution_count": 7,
   "metadata": {},
   "outputs": [
    {
     "data": {
      "text/html": [
       "<div>\n",
       "<style scoped>\n",
       "    .dataframe tbody tr th:only-of-type {\n",
       "        vertical-align: middle;\n",
       "    }\n",
       "\n",
       "    .dataframe tbody tr th {\n",
       "        vertical-align: top;\n",
       "    }\n",
       "\n",
       "    .dataframe thead th {\n",
       "        text-align: right;\n",
       "    }\n",
       "</style>\n",
       "<table border=\"1\" class=\"dataframe\">\n",
       "  <thead>\n",
       "    <tr style=\"text-align: right;\">\n",
       "      <th></th>\n",
       "      <th>Instance</th>\n",
       "      <th>Year of Record</th>\n",
       "      <th>Gender</th>\n",
       "      <th>Age</th>\n",
       "      <th>Country</th>\n",
       "      <th>Size of City</th>\n",
       "      <th>Profession</th>\n",
       "      <th>University Degree</th>\n",
       "      <th>Wears Glasses</th>\n",
       "      <th>Hair Color</th>\n",
       "      <th>Body Height [cm]</th>\n",
       "    </tr>\n",
       "  </thead>\n",
       "  <tbody>\n",
       "    <tr>\n",
       "      <th>0</th>\n",
       "      <td>1</td>\n",
       "      <td>0.435897</td>\n",
       "      <td>male</td>\n",
       "      <td>0.283227</td>\n",
       "      <td>Belarus</td>\n",
       "      <td>1239930</td>\n",
       "      <td>steel workers</td>\n",
       "      <td>Bachelor</td>\n",
       "      <td>0</td>\n",
       "      <td>Blond</td>\n",
       "      <td>193</td>\n",
       "    </tr>\n",
       "    <tr>\n",
       "      <th>1</th>\n",
       "      <td>2</td>\n",
       "      <td>0.410256</td>\n",
       "      <td>other</td>\n",
       "      <td>0.283227</td>\n",
       "      <td>Singapore</td>\n",
       "      <td>1603504</td>\n",
       "      <td>safe event coordinator</td>\n",
       "      <td>Master</td>\n",
       "      <td>0</td>\n",
       "      <td>Black</td>\n",
       "      <td>186</td>\n",
       "    </tr>\n",
       "    <tr>\n",
       "      <th>2</th>\n",
       "      <td>3</td>\n",
       "      <td>0.974359</td>\n",
       "      <td>other</td>\n",
       "      <td>0.146858</td>\n",
       "      <td>Norway</td>\n",
       "      <td>1298017</td>\n",
       "      <td>receivables/payables analyst</td>\n",
       "      <td>PhD</td>\n",
       "      <td>1</td>\n",
       "      <td>Brown</td>\n",
       "      <td>170</td>\n",
       "    </tr>\n",
       "    <tr>\n",
       "      <th>3</th>\n",
       "      <td>4</td>\n",
       "      <td>0.666667</td>\n",
       "      <td>other</td>\n",
       "      <td>0.199308</td>\n",
       "      <td>Cuba</td>\n",
       "      <td>751903</td>\n",
       "      <td>fleet assistant</td>\n",
       "      <td>No</td>\n",
       "      <td>1</td>\n",
       "      <td>Black</td>\n",
       "      <td>171</td>\n",
       "    </tr>\n",
       "    <tr>\n",
       "      <th>4</th>\n",
       "      <td>5</td>\n",
       "      <td>0.769231</td>\n",
       "      <td>female</td>\n",
       "      <td>0.335676</td>\n",
       "      <td>United Arab Emirates</td>\n",
       "      <td>95389</td>\n",
       "      <td>lead trainer</td>\n",
       "      <td>Bachelor</td>\n",
       "      <td>0</td>\n",
       "      <td>Blond</td>\n",
       "      <td>188</td>\n",
       "    </tr>\n",
       "  </tbody>\n",
       "</table>\n",
       "</div>"
      ],
      "text/plain": [
       "   Instance  Year of Record  Gender       Age               Country  \\\n",
       "0         1        0.435897    male  0.283227               Belarus   \n",
       "1         2        0.410256   other  0.283227             Singapore   \n",
       "2         3        0.974359   other  0.146858                Norway   \n",
       "3         4        0.666667   other  0.199308                  Cuba   \n",
       "4         5        0.769231  female  0.335676  United Arab Emirates   \n",
       "\n",
       "   Size of City                    Profession University Degree  \\\n",
       "0       1239930                 steel workers          Bachelor   \n",
       "1       1603504        safe event coordinator            Master   \n",
       "2       1298017  receivables/payables analyst               PhD   \n",
       "3        751903               fleet assistant                No   \n",
       "4         95389                  lead trainer          Bachelor   \n",
       "\n",
       "   Wears Glasses Hair Color  Body Height [cm]  \n",
       "0              0      Blond               193  \n",
       "1              0      Black               186  \n",
       "2              1      Brown               170  \n",
       "3              1      Black               171  \n",
       "4              0      Blond               188  "
      ]
     },
     "execution_count": 7,
     "metadata": {},
     "output_type": "execute_result"
    }
   ],
   "source": [
    "# age_bin = np.linspace(min(combined_df[\"Age\"]),max(combined_df[\"Age\"]),4)\n",
    "# age_group = [\"age0\",\"age1\",\"age2\"]\n",
    "# combined_df[\"Age_Binned\"] = pd.cut(combined_df['Age'], bins=age_bin, labels=age_group)\n",
    "\n",
    "# f, axes = plt.subplots(1, 2,figsize=(15,5))\n",
    "# p1=sns.countplot(combined_df['Age_Binned'],ax=axes[0])\n",
    "# for p in p1.patches:\n",
    "#     height = p.get_height()\n",
    "#     p1.text(p.get_x()+p.get_width()/2,height + 50,height,ha=\"center\")       \n",
    "# axes[0].set(xlabel='Age')\n",
    "# axes[0].yaxis.tick_left()\n",
    "\n",
    "\n",
    "scaler = MinMaxScaler()\n",
    "scaler =scaler.fit(combined_df[['Year of Record']])\n",
    "combined_df['Year of Record'] = scaler.transform(combined_df[['Year of Record']]).ravel()\n",
    "scaler =scaler.fit(combined_df[['Age']])\n",
    "combined_df['Age'] = scaler.transform(combined_df[['Age']]).ravel()\n",
    "combined_df.head()"
   ]
  },
  {
   "cell_type": "markdown",
   "metadata": {},
   "source": [
    "* one-hot encoding on 'Gender','Country','University Degree' using get_dummies\n",
    "* Label encoding on profession also tried HashEncoder\n",
    "* Dropped columns that seemed to have no effect based on correlation and trial and error\n"
   ]
  },
  {
   "cell_type": "code",
   "execution_count": 8,
   "metadata": {},
   "outputs": [
    {
     "data": {
      "image/png": "[encoded data removed]",
      "text/plain": [
       "<Figure size 1152x864 with 2 Axes>"
      ]
     },
     "metadata": {
      "needs_background": "light"
     },
     "output_type": "display_data"
    }
   ],
   "source": [
    "combined_df.drop(columns =['Instance','Size of City','Wears Glasses','Hair Color','Body Height [cm]'],inplace= True)\n",
    "\n",
    "le = preprocessing.LabelEncoder()\n",
    "combined_df.Profession = le.fit_transform(combined_df.Profession)\n",
    "\n",
    "f, ax = plt.subplots(figsize=(16, 12))\n",
    "plt.title('Pearson Correlation Matrix',fontsize=25)\n",
    "sns.heatmap(combined_df.corr(),linewidths=0.25,vmax=0.7,square=True,cmap=\"BuGn\",linecolor='w',annot=True,annot_kws={\"size\":8},cbar_kws={\"shrink\": .9});\n",
    "# encoder = ce.HashEncoder(cols=['Profession'])\n",
    "# combined_df_onehot_encoded = encoder.fit_transform(combined_df_onehot_encoded)\n",
    "\n",
    "# combined_df_onehot_encoded.Profession = combined_df_onehot_encoded.Profession.ffill()\n",
    "combined_df_onehot_encoded = pd.get_dummies(combined_df, columns =['Gender','Country','University Degree'])"
   ]
  },
  {
   "cell_type": "markdown",
   "metadata": {},
   "source": [
    "Splitting back test and train data model after preprocessing"
   ]
  },
  {
   "cell_type": "code",
   "execution_count": 9,
   "metadata": {},
   "outputs": [
    {
     "name": "stdout",
     "output_type": "stream",
     "text": [
      "(111940, 120)\n",
      "(73230, 120)\n",
      "(185170, 120)\n"
     ]
    }
   ],
   "source": [
    "train_X = combined_df_onehot_encoded.iloc[0:111940, :]\n",
    "test_X  = combined_df_onehot_encoded.iloc[111940:, :]\n",
    "print(train_X.shape)\n",
    "print(test_X.shape)\n",
    "print(combined_df_onehot_encoded.shape)\n"
   ]
  },
  {
   "cell_type": "markdown",
   "metadata": {},
   "source": [
    "Randomo forest algorithm implemtation using  Scikit RandomForestRegressor also tried Linear Regression"
   ]
  },
  {
   "cell_type": "code",
   "execution_count": 10,
   "metadata": {},
   "outputs": [
    {
     "name": "stdout",
     "output_type": "stream",
     "text": [
      "29102.326\n"
     ]
    }
   ],
   "source": [
    "# train_X, val_X, train_y, val_y = train_test_split(X, y,test_size = 0.3, random_state = 0)\n",
    "# current_model = linear_model.LinearRegression()\n",
    "# current_model.fit(train_X,y)\n",
    "# val_predictions = current_model.predict(train_X)\n",
    "# rmsecm2 = float(format(np.sqrt(metrics.mean_squared_error(y, val_predictions)),'.3f'))\n",
    "\n",
    "reg = RandomForestRegressor(n_estimators=10, random_state=125, min_samples_split=2, n_jobs=-1)\n",
    "reg.fit(train_X,y)\n",
    "pred = reg.predict(train_X)\n",
    "prediction = reg.predict(test_X)\n",
    "rmsecm = float(format(np.sqrt(metrics.mean_squared_error(y, pred)),'.3f'))\n",
    "print(rmsecm)\n"
   ]
  },
  {
   "cell_type": "markdown",
   "metadata": {},
   "source": [
    "Writing the final output to csv file"
   ]
  },
  {
   "cell_type": "code",
   "execution_count": 11,
   "metadata": {},
   "outputs": [],
   "source": [
    "result = pd.DataFrame({'Instance':test_dataframe.Instance,'Income':prediction})\n",
    "result.to_csv(output_url)"
   ]
  },
  {
   "cell_type": "code",
   "execution_count": null,
   "metadata": {},
   "outputs": [],
   "source": []
  },
  {
   "cell_type": "code",
   "execution_count": null,
   "metadata": {},
   "outputs": [],
   "source": []
  },
  {
   "cell_type": "code",
   "execution_count": null,
   "metadata": {},
   "outputs": [],
   "source": []
  }
 ],
 "metadata": {
  "kernelspec": {
   "display_name": "Python 3",
   "language": "python",
   "name": "python3"
  },
  "language_info": {
   "codemirror_mode": {
    "name": "ipython",
    "version": 3
   },
   "file_extension": ".py",
   "mimetype": "text/x-python",
   "name": "python",
   "nbconvert_exporter": "python",
   "pygments_lexer": "ipython3",
   "version": "3.7.3"
  }
 },
 "nbformat": 4,
 "nbformat_minor": 4
}
